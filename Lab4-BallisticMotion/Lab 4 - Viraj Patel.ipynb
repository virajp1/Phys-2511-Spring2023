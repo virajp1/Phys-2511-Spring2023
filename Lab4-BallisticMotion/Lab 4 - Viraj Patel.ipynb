{
 "cells": [
  {
   "cell_type": "code",
   "execution_count": null,
   "id": "fba48eae",
   "metadata": {},
   "outputs": [],
   "source": [
    "import math\n",
    "g=9.8\n",
    "v0 = int(input(\"Enter the initial velocity magnitude in m/s: \"))\n",
    "theta = int(input(\"Enter the initial velocity angle in degrees: \"))\n",
    "dt = int(input(\"Enter the time step in seconds: \"))\n",
    "target = int(input(\"Enter the x-position of the target on the ground in meters: \"))\n",
    "theta = math.radians(theta)\n",
    "x = 0\n",
    "y = 0\n",
    "vx = int(v0 * math.cos(theta))\n",
    "vy = int(v0 * math.sin(theta))\n",
    "\n",
    "while True:\n",
    "    x = x + vx * dt\n",
    "    y = y + vy * dt\n",
    "    vx = vx + 0\n",
    "    vy = vy - g * dt\n",
    "\n",
    "    if y < 0:\n",
    "        miss = target - x\n",
    "        print(\"Final x-position of the shot:\", x)\n",
    "        print(\"Miss distance: \", miss, \" meters\")\n",
    "        \n",
    "        if miss < 0:\n",
    "            print(\"The target was hit!\")\n",
    "            break\n",
    "        else:\n",
    "            print(\"The target was missed.\")\n",
    "            if miss > 0:\n",
    "                theta = theta + math.radians(5)\n",
    "            else:\n",
    "                theta = theta - math.radians(5)\n",
    "            vx = int(v0 * math.cos(theta))\n",
    "            vy = int(v0 * math.sin(theta))\n"
   ]
  },
  {
   "cell_type": "code",
   "execution_count": null,
   "id": "d24c3187",
   "metadata": {},
   "outputs": [],
   "source": []
  }
 ],
 "metadata": {
  "kernelspec": {
   "display_name": "Python 3 (ipykernel)",
   "language": "python",
   "name": "python3"
  },
  "language_info": {
   "codemirror_mode": {
    "name": "ipython",
    "version": 3
   },
   "file_extension": ".py",
   "mimetype": "text/x-python",
   "name": "python",
   "nbconvert_exporter": "python",
   "pygments_lexer": "ipython3",
   "version": "3.9.13"
  }
 },
 "nbformat": 4,
 "nbformat_minor": 5
}
