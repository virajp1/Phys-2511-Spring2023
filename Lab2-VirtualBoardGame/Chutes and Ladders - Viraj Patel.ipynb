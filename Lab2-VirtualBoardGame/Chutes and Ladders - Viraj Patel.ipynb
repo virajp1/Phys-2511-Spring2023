{
 "cells": [
  {
   "cell_type": "code",
   "execution_count": null,
   "id": "e7af027f",
   "metadata": {},
   "outputs": [
    {
     "name": "stdout",
     "output_type": "stream",
     "text": [
      "Welcome to Chutes and Ladders!\n"
     ]
    }
   ],
   "source": [
    "import time as tm\n",
    "import random as ra\n",
    "print(\"Welcome to Chutes and Ladders!\")\n",
    "name=input(\"What is your name Player 1:  \")\n",
    "name1=input(\"What is your name Player 2:  \")\n",
    "ladders={1: 38, 6: 15, 12: 25, 23: 29, 25: 50, 30: 33, 45: 48}\n",
    "chutes={12: 1, 20: 10, 31: 19, 36: 34, 40: 21, 49: 35}\n",
    "position1=0\n",
    "position2=0\n",
    "def playermoves(pos):\n",
    "    twodice=ra.randint(1,12)\n",
    "    print(\"Rolling...\")\n",
    "    tm.sleep(3.0)\n",
    "    print(\"Dice:\" + str(twodice))\n",
    "    pos = pos+twodice\n",
    "    if pos in ladders:\n",
    "        print(\"YAY! You landed on a ladder!\")\n",
    "        pos=ladders[pos]\n",
    "        print(\"Position:\" + str(pos))\n",
    "    elif pos in chutes:\n",
    "        print(\"OH NO! You landed on a chute\")\n",
    "        pos=chutes[pos]\n",
    "        print(\"Position:\" + str(pos))\n",
    "    else: \n",
    "        print(\"Position:\" + str(pos))\n",
    "    return pos\n",
    "while True:\n",
    "    Player1=input(name  +  \"\\tType \\\"R\\\" to roll\")\n",
    "    position1=playermoves(position1)\n",
    "    if position1>=50:\n",
    "        print(\"Game Over!!!\" + name +   \"WINS\")\n",
    "        break\n",
    "    Player2=input(name1  +  \"\\tType \\\"R\\\" to roll\")\n",
    "    position2=playermoves(position2)\n",
    "    if position2>=50:\n",
    "        print(\"Game Over!!!\" + name1 +   \"\\tWINS\")\n",
    "        break"
   ]
  },
  {
   "cell_type": "code",
   "execution_count": null,
   "id": "c3573241",
   "metadata": {},
   "outputs": [],
   "source": []
  }
 ],
 "metadata": {
  "kernelspec": {
   "display_name": "Python 3 (ipykernel)",
   "language": "python",
   "name": "python3"
  },
  "language_info": {
   "codemirror_mode": {
    "name": "ipython",
    "version": 3
   },
   "file_extension": ".py",
   "mimetype": "text/x-python",
   "name": "python",
   "nbconvert_exporter": "python",
   "pygments_lexer": "ipython3",
   "version": "3.9.13"
  }
 },
 "nbformat": 4,
 "nbformat_minor": 5
}
