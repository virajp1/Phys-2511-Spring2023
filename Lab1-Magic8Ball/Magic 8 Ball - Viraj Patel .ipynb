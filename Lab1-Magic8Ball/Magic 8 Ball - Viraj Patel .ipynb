{
 "cells": [
  {
   "cell_type": "code",
   "execution_count": null,
   "id": "7ee894d3",
   "metadata": {
    "scrolled": true
   },
   "outputs": [],
   "source": [
    "name=input(\"What is your name: \")\n",
    "question=input(\"Hello!\\t\" + name + \"!\" + \"\\nWhat is your question?:  \")\n",
    "import random as ra\n",
    "import time as tm\n",
    "my_list=[\"YES, It is certain!\", \"Ask again later\", \"Signs point to NO\"]\n",
    "my_list2=[\"YES, It is certain!\", \"Signs point to NO\"]\n",
    "print(\"Thinking...\")\n",
    "tm.sleep(5.0)\n",
    "print(ra.choice(my_list))\n",
    "ask_again=input(\"Do you want to: \\n\\nAsk Again? \\nAsk a New Question? \\nor \\nStop Playing:\\n  \")\n",
    "if ask_again==\"Ask Again\":\n",
    "    print(\"Thinking...\")\n",
    "    tm.sleep(5.0)\n",
    "    print(ra.choice(my_list2))\n",
    "    tm.sleep(2.0)\n",
    "    print(\"Thanks for Playing! Goodbye!\\t\" + name + \"\\t:-)\")\n",
    "elif ask_again==\"Ask a New Question\":\n",
    "    question2=input(\"What is your new question?:  \")\n",
    "    print(\"Thinking...\")\n",
    "    tm.sleep(5.0)\n",
    "    print(ra.choice(my_list2))\n",
    "    tm.sleep(2.0)\n",
    "    print(\"Thanks for Playing! Goodbye!\\t\" + name + \"\\t:-)\")\n",
    "elif ask_again==\"Stop Playing\":\n",
    "    print(\"Ok! Thanks for Playing! Goodbye!\\t\" + name + \"\\t:-)\")    "
   ]
  }
 ],
 "metadata": {
  "kernelspec": {
   "display_name": "Python 3 (ipykernel)",
   "language": "python",
   "name": "python3"
  },
  "language_info": {
   "codemirror_mode": {
    "name": "ipython",
    "version": 3
   },
   "file_extension": ".py",
   "mimetype": "text/x-python",
   "name": "python",
   "nbconvert_exporter": "python",
   "pygments_lexer": "ipython3",
   "version": "3.9.13"
  }
 },
 "nbformat": 4,
 "nbformat_minor": 5
}
