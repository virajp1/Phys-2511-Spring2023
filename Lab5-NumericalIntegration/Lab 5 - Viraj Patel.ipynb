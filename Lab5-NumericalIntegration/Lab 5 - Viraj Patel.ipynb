{
 "cells": [
  {
   "cell_type": "markdown",
   "id": "0f552e65",
   "metadata": {},
   "source": [
    "Y1: Stright Line"
   ]
  },
  {
   "cell_type": "code",
   "execution_count": null,
   "id": "12684a32",
   "metadata": {},
   "outputs": [],
   "source": [
    "import numpy as np\n",
    "import scipy.integrate as inte\n",
    "import matplotlib\n",
    "import matplotlib.pyplot as plt\n",
    "\n",
    "def f(x):\n",
    "    return -0.5*x + 4.0\n",
    "\n",
    "def area_under_curve(a, b, dx):\n",
    "    x = np.arange(a, b, dx)\n",
    "    y = f(x)\n",
    "    area = np.sum(y*dx)\n",
    "    return area\n",
    "\n",
    "a = -5.0\n",
    "b = 5.0\n",
    "dx = float(input(\"Enter the width of the rectangles: \"))\n",
    "\n",
    "\n",
    "estimated_area = area_under_curve(a, b, dx)\n",
    "actual_area,_ = inte.quad(f, a, b)\n",
    "percent_diff=abs((estimated_area - actual_area)/(actual_area)*100)\n",
    "\n",
    "print(\"Estimated area: \"  + str(estimated_area))\n",
    "print(\"Actual area: \" + str(actual_area))             \n",
    "print(\"Percent Difference: \" + str(percent_diff))\n",
    "\n",
    "dx_bar=plt.bar([\"Width of Rectangle\", \"Percent Difference\"], [dx, percent_diff])\n",
    "plt.ylabel(\"\")\n",
    "plt.title(\"Comparison\")\n",
    "plt.show()\n"
   ]
  },
  {
   "cell_type": "markdown",
   "id": "b8918f01",
   "metadata": {},
   "source": [
    "Y2: Parabola"
   ]
  },
  {
   "cell_type": "code",
   "execution_count": null,
   "id": "179b4cac",
   "metadata": {},
   "outputs": [],
   "source": [
    "import numpy as np\n",
    "import scipy.integrate as inte\n",
    "import matplotlib\n",
    "import matplotlib.pyplot as plt\n",
    "\n",
    "def f(x):\n",
    "    return -0.29*x**2 - x + 12.5\n",
    "\n",
    "def area_under_curve(a, b, dx):\n",
    "    x = np.arange(a, b, dx)\n",
    "    y = f(x)\n",
    "    area = np.sum(y*dx)\n",
    "    return area\n",
    "\n",
    "a = -5.0\n",
    "b = 5.0\n",
    "dx = float(input(\"Enter the width of the rectangles: \"))\n",
    "\n",
    "estimated_area = area_under_curve(a, b, dx)\n",
    "actual_area,_ = inte.quad(f, a, b)\n",
    "percent_diff=abs((estimated_area - actual_area)/(actual_area)*100)\n",
    "\n",
    "print(\"Estimated area:\" + str(estimated_area))\n",
    "print(\"Actual area:\" + str(actual_area))\n",
    "print(\"Percent Difference: \" + str(percent_diff))\n",
    "\n",
    "dx_bar=plt.bar([\"Width of Rectangle\", \"Percent Difference\"], [dx, percent_diff])\n",
    "plt.ylabel(\"\")\n",
    "plt.title(\"Comparison\")\n",
    "plt.show()\n"
   ]
  },
  {
   "cell_type": "markdown",
   "id": "40862849",
   "metadata": {},
   "source": [
    "Y3: More Complicated function"
   ]
  },
  {
   "cell_type": "code",
   "execution_count": null,
   "id": "886ae5ab",
   "metadata": {},
   "outputs": [],
   "source": [
    "import numpy as np\n",
    "import scipy.integrate as inte\n",
    "import matplotlib\n",
    "import matplotlib.pyplot as plt\n",
    "\n",
    "def f(x):\n",
    "    return 1.0+10*(x+1.0)*np.exp(-x**2)\n",
    "\n",
    "def area_under_curve(a, b, dx):\n",
    "    x = np.arange(a, b, dx)\n",
    "    y = f(x)\n",
    "    area = np.sum(y*dx)\n",
    "    return area\n",
    "\n",
    "a = -5.0\n",
    "b = 5.0\n",
    "dx = float(input(\"Enter the width of the rectangles: \"))\n",
    "\n",
    "estimated_area = area_under_curve(a, b, dx)\n",
    "actual_area,_ = inte.quad(f, a, b)\n",
    "percent_diff=abs((estimated_area - actual_area)/(actual_area)*100)\n",
    "\n",
    "print(\"Estimated area:\" + str(estimated_area))\n",
    "print(\"Actual area:\" + str(actual_area))\n",
    "print(\"Percent Difference: \" + str(percent_diff))\n",
    "\n",
    "dx_bar=plt.bar([\"Width of Rectangle\", \"Percent Difference\"], [dx, percent_diff])\n",
    "plt.ylabel(\"\")\n",
    "plt.title(\"Comparison\")\n",
    "plt.show()"
   ]
  },
  {
   "cell_type": "code",
   "execution_count": null,
   "id": "29a81115",
   "metadata": {},
   "outputs": [],
   "source": []
  }
 ],
 "metadata": {
  "kernelspec": {
   "display_name": "Python 3 (ipykernel)",
   "language": "python",
   "name": "python3"
  },
  "language_info": {
   "codemirror_mode": {
    "name": "ipython",
    "version": 3
   },
   "file_extension": ".py",
   "mimetype": "text/x-python",
   "name": "python",
   "nbconvert_exporter": "python",
   "pygments_lexer": "ipython3",
   "version": "3.9.13"
  }
 },
 "nbformat": 4,
 "nbformat_minor": 5
}
